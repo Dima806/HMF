{
 "cells": [
  {
   "cell_type": "markdown",
   "metadata": {},
   "source": [
    "# Checking correctness of CDM halo mass function at  http://hmf.icrar.org/"
   ]
  },
  {
   "cell_type": "code",
   "execution_count": 1,
   "metadata": {
    "collapsed": true
   },
   "outputs": [],
   "source": [
    "import pandas as pd\n",
    "import numpy as np\n",
    "import matplotlib.pyplot as plt\n",
    "from scipy.integrate import quad"
   ]
  },
  {
   "cell_type": "markdown",
   "metadata": {},
   "source": [
    "- Using their Web interface"
   ]
  },
  {
   "cell_type": "markdown",
   "metadata": {},
   "source": [
    "Define specific cosmological parameters used for P(k) and HMF calculation"
   ]
  },
  {
   "cell_type": "code",
   "execution_count": 2,
   "metadata": {
    "collapsed": true
   },
   "outputs": [],
   "source": [
    "Omega_m = 0.2725\n",
    "Omega_L = 1 - Omega_m\n",
    "Omega_b = 0.0455\n",
    "Omega_dm = Omega_m - Omega_b\n",
    "h = 0.702\n",
    "sigma8 = 0.8\n",
    "z = 0\n",
    "delta_c = 1.686\n",
    "n_s = 0.967\n",
    "#delta_crit = 200 # how to define the halo mass; where $\\bar\\rho = \\delta_{crit} \\times \\rho_{crit}$ \n",
    "method = 'Press-Schechter74' # http://adsabs.harvard.edu/abs/1974ApJ...187..425P\n",
    "transfer_calculator = 'CAMB' # Use CAMB to calculate P(k) and T(k)\n",
    "rho_crit = 277.5*10**9 # h^2 M/Mpc^3\n",
    "rho_0 = rho_crit*Omega_m\n",
    "#print(Omega_L, Omega_dm)"
   ]
  },
  {
   "cell_type": "markdown",
   "metadata": {},
   "source": [
    "Import and plot P(k)"
   ]
  },
  {
   "cell_type": "code",
   "execution_count": 3,
   "metadata": {},
   "outputs": [
    {
     "data": {
      "text/html": [
       "<div>\n",
       "<style>\n",
       "    .dataframe thead tr:only-child th {\n",
       "        text-align: right;\n",
       "    }\n",
       "\n",
       "    .dataframe thead th {\n",
       "        text-align: left;\n",
       "    }\n",
       "\n",
       "    .dataframe tbody tr th {\n",
       "        vertical-align: top;\n",
       "    }\n",
       "</style>\n",
       "<table border=\"1\" class=\"dataframe\">\n",
       "  <thead>\n",
       "    <tr style=\"text-align: right;\">\n",
       "      <th></th>\n",
       "      <th>k, h/Mpc</th>\n",
       "      <th>P(k), (Mpc/h)^3</th>\n",
       "      <th>T(k), (Mpc/h)^3</th>\n",
       "      <th>Delta_k</th>\n",
       "    </tr>\n",
       "  </thead>\n",
       "  <tbody>\n",
       "    <tr>\n",
       "      <th>0</th>\n",
       "      <td>3.059023e-07</td>\n",
       "      <td>1.948885</td>\n",
       "      <td>39449.890352</td>\n",
       "      <td>2.826212e-21</td>\n",
       "    </tr>\n",
       "    <tr>\n",
       "      <th>1</th>\n",
       "      <td>3.215863e-07</td>\n",
       "      <td>2.045428</td>\n",
       "      <td>39449.883963</td>\n",
       "      <td>3.446251e-21</td>\n",
       "    </tr>\n",
       "    <tr>\n",
       "      <th>2</th>\n",
       "      <td>3.380743e-07</td>\n",
       "      <td>2.146754</td>\n",
       "      <td>39449.877574</td>\n",
       "      <td>4.202320e-21</td>\n",
       "    </tr>\n",
       "    <tr>\n",
       "      <th>3</th>\n",
       "      <td>3.554078e-07</td>\n",
       "      <td>2.253099</td>\n",
       "      <td>39449.871184</td>\n",
       "      <td>5.124261e-21</td>\n",
       "    </tr>\n",
       "    <tr>\n",
       "      <th>4</th>\n",
       "      <td>3.736299e-07</td>\n",
       "      <td>2.364712</td>\n",
       "      <td>39449.864795</td>\n",
       "      <td>6.248467e-21</td>\n",
       "    </tr>\n",
       "  </tbody>\n",
       "</table>\n",
       "</div>"
      ],
      "text/plain": [
       "       k, h/Mpc  P(k), (Mpc/h)^3  T(k), (Mpc/h)^3       Delta_k\n",
       "0  3.059023e-07         1.948885     39449.890352  2.826212e-21\n",
       "1  3.215863e-07         2.045428     39449.883963  3.446251e-21\n",
       "2  3.380743e-07         2.146754     39449.877574  4.202320e-21\n",
       "3  3.554078e-07         2.253099     39449.871184  5.124261e-21\n",
       "4  3.736299e-07         2.364712     39449.864795  6.248467e-21"
      ]
     },
     "execution_count": 3,
     "metadata": {},
     "output_type": "execute_result"
    }
   ],
   "source": [
    "kVector = 'kVector_CDM-Benson .txt'\n",
    "kV_data = pd.read_csv(kVector, sep=\" \", header=None, skiprows=4)\n",
    "kV_data.columns = ['k, h/Mpc', 'P(k), (Mpc/h)^3', 'T(k), (Mpc/h)^3', 'Delta_k']\n",
    "kV_data.head()"
   ]
  },
  {
   "cell_type": "markdown",
   "metadata": {},
   "source": [
    "Import and plot dn/dln(M200)"
   ]
  },
  {
   "cell_type": "code",
   "execution_count": 4,
   "metadata": {
    "scrolled": true
   },
   "outputs": [
    {
     "data": {
      "text/html": [
       "<div>\n",
       "<style>\n",
       "    .dataframe thead tr:only-child th {\n",
       "        text-align: right;\n",
       "    }\n",
       "\n",
       "    .dataframe thead th {\n",
       "        text-align: left;\n",
       "    }\n",
       "\n",
       "    .dataframe tbody tr th {\n",
       "        vertical-align: top;\n",
       "    }\n",
       "</style>\n",
       "<table border=\"1\" class=\"dataframe\">\n",
       "  <thead>\n",
       "    <tr style=\"text-align: right;\">\n",
       "      <th></th>\n",
       "      <th>M200, M/h</th>\n",
       "      <th>sigma</th>\n",
       "      <th>ln(1/sigma)</th>\n",
       "      <th>n_eff</th>\n",
       "      <th>f(sigma)</th>\n",
       "      <th>dn/dm, h^4/(Mpc^3*M_sun)</th>\n",
       "      <th>dn/dlnm, h^3/Mpc^3</th>\n",
       "      <th>dn/dlog10m, h^3/Mpc^3</th>\n",
       "      <th>n(&gt;m), h^3/Mpc^3</th>\n",
       "      <th>rho(&gt;m), M_sun*h^2/Mpc^3</th>\n",
       "      <th>rho(&gt;m), M_sun*h^2/Mpc^3</th>\n",
       "      <th>Lbox(N=1), Mpc/h</th>\n",
       "    </tr>\n",
       "  </thead>\n",
       "  <tbody>\n",
       "    <tr>\n",
       "      <th>0</th>\n",
       "      <td>1.000000e+10</td>\n",
       "      <td>3.509867</td>\n",
       "      <td>-1.255578</td>\n",
       "      <td>-2.374675</td>\n",
       "      <td>0.341508</td>\n",
       "      <td>2.691831e-11</td>\n",
       "      <td>0.269183</td>\n",
       "      <td>0.619817</td>\n",
       "      <td>0.314188</td>\n",
       "      <td>4.771973e+10</td>\n",
       "      <td>2.790992e+10</td>\n",
       "      <td>1.470969</td>\n",
       "    </tr>\n",
       "    <tr>\n",
       "      <th>1</th>\n",
       "      <td>1.122018e+10</td>\n",
       "      <td>3.467859</td>\n",
       "      <td>-1.243537</td>\n",
       "      <td>-2.370249</td>\n",
       "      <td>0.344674</td>\n",
       "      <td>2.173296e-11</td>\n",
       "      <td>0.243848</td>\n",
       "      <td>0.561480</td>\n",
       "      <td>0.284655</td>\n",
       "      <td>4.740727e+10</td>\n",
       "      <td>2.822238e+10</td>\n",
       "      <td>1.520175</td>\n",
       "    </tr>\n",
       "    <tr>\n",
       "      <th>2</th>\n",
       "      <td>1.258925e+10</td>\n",
       "      <td>3.426059</td>\n",
       "      <td>-1.231410</td>\n",
       "      <td>-2.365764</td>\n",
       "      <td>0.347869</td>\n",
       "      <td>1.754718e-11</td>\n",
       "      <td>0.220906</td>\n",
       "      <td>0.508655</td>\n",
       "      <td>0.257902</td>\n",
       "      <td>4.708969e+10</td>\n",
       "      <td>2.853996e+10</td>\n",
       "      <td>1.571020</td>\n",
       "    </tr>\n",
       "    <tr>\n",
       "      <th>3</th>\n",
       "      <td>1.412538e+10</td>\n",
       "      <td>3.384466</td>\n",
       "      <td>-1.219196</td>\n",
       "      <td>-2.361152</td>\n",
       "      <td>0.351091</td>\n",
       "      <td>1.416963e-11</td>\n",
       "      <td>0.200151</td>\n",
       "      <td>0.460865</td>\n",
       "      <td>0.233664</td>\n",
       "      <td>4.676685e+10</td>\n",
       "      <td>2.886280e+10</td>\n",
       "      <td>1.623564</td>\n",
       "    </tr>\n",
       "    <tr>\n",
       "      <th>4</th>\n",
       "      <td>1.584893e+10</td>\n",
       "      <td>3.343081</td>\n",
       "      <td>-1.206893</td>\n",
       "      <td>-2.356441</td>\n",
       "      <td>0.354340</td>\n",
       "      <td>1.144327e-11</td>\n",
       "      <td>0.181364</td>\n",
       "      <td>0.417605</td>\n",
       "      <td>0.211702</td>\n",
       "      <td>4.643864e+10</td>\n",
       "      <td>2.919101e+10</td>\n",
       "      <td>1.677869</td>\n",
       "    </tr>\n",
       "  </tbody>\n",
       "</table>\n",
       "</div>"
      ],
      "text/plain": [
       "      M200, M/h     sigma  ln(1/sigma)     n_eff  f(sigma)  \\\n",
       "0  1.000000e+10  3.509867    -1.255578 -2.374675  0.341508   \n",
       "1  1.122018e+10  3.467859    -1.243537 -2.370249  0.344674   \n",
       "2  1.258925e+10  3.426059    -1.231410 -2.365764  0.347869   \n",
       "3  1.412538e+10  3.384466    -1.219196 -2.361152  0.351091   \n",
       "4  1.584893e+10  3.343081    -1.206893 -2.356441  0.354340   \n",
       "\n",
       "   dn/dm, h^4/(Mpc^3*M_sun)  dn/dlnm, h^3/Mpc^3  dn/dlog10m, h^3/Mpc^3  \\\n",
       "0              2.691831e-11            0.269183               0.619817   \n",
       "1              2.173296e-11            0.243848               0.561480   \n",
       "2              1.754718e-11            0.220906               0.508655   \n",
       "3              1.416963e-11            0.200151               0.460865   \n",
       "4              1.144327e-11            0.181364               0.417605   \n",
       "\n",
       "   n(>m), h^3/Mpc^3  rho(>m), M_sun*h^2/Mpc^3  rho(>m), M_sun*h^2/Mpc^3  \\\n",
       "0          0.314188              4.771973e+10              2.790992e+10   \n",
       "1          0.284655              4.740727e+10              2.822238e+10   \n",
       "2          0.257902              4.708969e+10              2.853996e+10   \n",
       "3          0.233664              4.676685e+10              2.886280e+10   \n",
       "4          0.211702              4.643864e+10              2.919101e+10   \n",
       "\n",
       "   Lbox(N=1), Mpc/h  \n",
       "0          1.470969  \n",
       "1          1.520175  \n",
       "2          1.571020  \n",
       "3          1.623564  \n",
       "4          1.677869  "
      ]
     },
     "execution_count": 4,
     "metadata": {},
     "output_type": "execute_result"
    }
   ],
   "source": [
    "mVector = 'mVector_CDM-Benson .txt'\n",
    "mV_data = pd.read_csv(mVector, sep=\" \", header=None, skiprows=12)\n",
    "mV_data.columns = ['M200, M/h', \n",
    "                   'sigma', \n",
    "                   'ln(1/sigma)', \n",
    "                   'n_eff', \n",
    "                   'f(sigma)', \n",
    "                   'dn/dm, h^4/(Mpc^3*M_sun)', \n",
    "                   'dn/dlnm, h^3/Mpc^3', \n",
    "                   'dn/dlog10m, h^3/Mpc^3', \n",
    "                   'n(>m), h^3/Mpc^3', \n",
    "                   'rho(>m), M_sun*h^2/Mpc^3', \n",
    "                   'rho(>m), M_sun*h^2/Mpc^3', \n",
    "                   'Lbox(N=1), Mpc/h']\n",
    "mV_data.head()\n",
    "#mV_data.info()"
   ]
  },
  {
   "cell_type": "code",
   "execution_count": 5,
   "metadata": {},
   "outputs": [
    {
     "data": {
      "image/png": "[encoded data removed]",
      "text/plain": [
       "<matplotlib.figure.Figure at 0x7faafa068630>"
      ]
     },
     "metadata": {},
     "output_type": "display_data"
    }
   ],
   "source": [
    "plt.plot(mV_data['M200, M/h'], mV_data['dn/dlnm, h^3/Mpc^3'], linewidth=1.0,color=\"r\")\n",
    "plt.loglog()\n",
    "plt.xlabel('M200 [M/h]')\n",
    "plt.ylabel('dn/dlnm [h/Mpc]$^3$')\n",
    "#plt.title('P(k)')\n",
    "#plt.savefig(\"P_k.png\")\n",
    "plt.show()"
   ]
  },
  {
   "cell_type": "markdown",
   "metadata": {},
   "source": [
    "Compare P(k) with other example (Lovell16)"
   ]
  },
  {
   "cell_type": "code",
   "execution_count": 6,
   "metadata": {},
   "outputs": [
    {
     "data": {
      "text/html": [
       "<div>\n",
       "<style>\n",
       "    .dataframe thead tr:only-child th {\n",
       "        text-align: right;\n",
       "    }\n",
       "\n",
       "    .dataframe thead th {\n",
       "        text-align: left;\n",
       "    }\n",
       "\n",
       "    .dataframe tbody tr th {\n",
       "        vertical-align: top;\n",
       "    }\n",
       "</style>\n",
       "<table border=\"1\" class=\"dataframe\">\n",
       "  <thead>\n",
       "    <tr style=\"text-align: right;\">\n",
       "      <th></th>\n",
       "      <th>k, h/Mpc</th>\n",
       "      <th>P(k), (Mpc/h)^3</th>\n",
       "    </tr>\n",
       "  </thead>\n",
       "  <tbody>\n",
       "    <tr>\n",
       "      <th>0</th>\n",
       "      <td>0.000100</td>\n",
       "      <td>663.35</td>\n",
       "    </tr>\n",
       "    <tr>\n",
       "      <th>1</th>\n",
       "      <td>0.000102</td>\n",
       "      <td>676.22</td>\n",
       "    </tr>\n",
       "    <tr>\n",
       "      <th>2</th>\n",
       "      <td>0.000104</td>\n",
       "      <td>689.33</td>\n",
       "    </tr>\n",
       "    <tr>\n",
       "      <th>3</th>\n",
       "      <td>0.000106</td>\n",
       "      <td>702.70</td>\n",
       "    </tr>\n",
       "    <tr>\n",
       "      <th>4</th>\n",
       "      <td>0.000108</td>\n",
       "      <td>716.33</td>\n",
       "    </tr>\n",
       "  </tbody>\n",
       "</table>\n",
       "</div>"
      ],
      "text/plain": [
       "   k, h/Mpc  P(k), (Mpc/h)^3\n",
       "0  0.000100           663.35\n",
       "1  0.000102           676.22\n",
       "2  0.000104           689.33\n",
       "3  0.000106           702.70\n",
       "4  0.000108           716.33"
      ]
     },
     "execution_count": 6,
     "metadata": {},
     "output_type": "execute_result"
    }
   ],
   "source": [
    "Pk_Lovell_file = '../calc/sf_CDM__k500-z127-matterpower.dat'\n",
    "Pk_Lovell_data = pd.read_csv(Pk_Lovell_file, sep=\"   \", header=None, skiprows=0, index_col=False, engine='python')\n",
    "Pk_Lovell_data.columns = ['k, h/Mpc', 'P(k), (Mpc/h)^3']\n",
    "Pk_Lovell_data.head()"
   ]
  },
  {
   "cell_type": "code",
   "execution_count": 7,
   "metadata": {},
   "outputs": [
    {
     "data": {
      "image/png": "[encoded data removed]",
      "text/plain": [
       "<matplotlib.figure.Figure at 0x7faaf64b3198>"
      ]
     },
     "metadata": {},
     "output_type": "display_data"
    }
   ],
   "source": [
    "plt.plot(kV_data['k, h/Mpc'], kV_data['P(k), (Mpc/h)^3'], linewidth=1.5,color=\"r\")\n",
    "plt.plot(Pk_Lovell_data['k, h/Mpc'], Pk_Lovell_data['P(k), (Mpc/h)^3'], linewidth=1.5,color=\"b\")\n",
    "plt.loglog()\n",
    "plt.xlabel('k [h/Mpc]')\n",
    "plt.ylabel('P(k) [Mpc/h]$^3$')\n",
    "#plt.xlim([0.01,0.02])\n",
    "#plt.ylim([26000,28500])\n",
    "#plt.title('P(k)')\n",
    "#plt.savefig(\"P_k.png\")\n",
    "plt.show()"
   ]
  },
  {
   "cell_type": "code",
   "execution_count": 8,
   "metadata": {},
   "outputs": [
    {
     "name": "stdout",
     "output_type": "stream",
     "text": [
      "27617.659777934434 36521.67647058824\n"
     ]
    }
   ],
   "source": [
    "mean_Pk_HMFcalc = kV_data[(kV_data['k, h/Mpc'] > 0.01) & (kV_data['k, h/Mpc'] < 0.02)]['P(k), (Mpc/h)^3'].mean()\n",
    "mean_Pk_Lovell = Pk_Lovell_data[(Pk_Lovell_data['k, h/Mpc'] > 0.01) & (Pk_Lovell_data['k, h/Mpc'] < 0.02)]['P(k), (Mpc/h)^3'].mean()\n",
    "print(mean_Pk_HMFcalc, mean_Pk_Lovell)"
   ]
  },
  {
   "cell_type": "markdown",
   "metadata": {},
   "source": [
    "So, our old P(k) for CDM obtained from M.Lovell was not very good (or maybe just calculated for another cosmology)"
   ]
  },
  {
   "cell_type": "markdown",
   "metadata": {},
   "source": [
    "Comparing P(k) with Benson's CDM "
   ]
  },
  {
   "cell_type": "code",
   "execution_count": 9,
   "metadata": {},
   "outputs": [
    {
     "data": {
      "text/html": [
       "<div>\n",
       "<style>\n",
       "    .dataframe thead tr:only-child th {\n",
       "        text-align: right;\n",
       "    }\n",
       "\n",
       "    .dataframe thead th {\n",
       "        text-align: left;\n",
       "    }\n",
       "\n",
       "    .dataframe tbody tr th {\n",
       "        vertical-align: top;\n",
       "    }\n",
       "</style>\n",
       "<table border=\"1\" class=\"dataframe\">\n",
       "  <thead>\n",
       "    <tr style=\"text-align: right;\">\n",
       "      <th></th>\n",
       "      <th>k, h/Mpc</th>\n",
       "      <th>P(k), (Mpc/h)^3</th>\n",
       "    </tr>\n",
       "  </thead>\n",
       "  <tbody>\n",
       "    <tr>\n",
       "      <th>0</th>\n",
       "      <td>0.000100</td>\n",
       "      <td>552.65</td>\n",
       "    </tr>\n",
       "    <tr>\n",
       "      <th>1</th>\n",
       "      <td>0.000102</td>\n",
       "      <td>563.37</td>\n",
       "    </tr>\n",
       "    <tr>\n",
       "      <th>2</th>\n",
       "      <td>0.000104</td>\n",
       "      <td>574.30</td>\n",
       "    </tr>\n",
       "    <tr>\n",
       "      <th>3</th>\n",
       "      <td>0.000106</td>\n",
       "      <td>585.43</td>\n",
       "    </tr>\n",
       "    <tr>\n",
       "      <th>4</th>\n",
       "      <td>0.000108</td>\n",
       "      <td>596.79</td>\n",
       "    </tr>\n",
       "  </tbody>\n",
       "</table>\n",
       "</div>"
      ],
      "text/plain": [
       "   k, h/Mpc  P(k), (Mpc/h)^3\n",
       "0  0.000100           552.65\n",
       "1  0.000102           563.37\n",
       "2  0.000104           574.30\n",
       "3  0.000106           585.43\n",
       "4  0.000108           596.79"
      ]
     },
     "execution_count": 9,
     "metadata": {},
     "output_type": "execute_result"
    }
   ],
   "source": [
    "Pk_Benson_file = 'cdm_Benson_100dex_z0_matterpower.dat'\n",
    "Pk_Benson_data = pd.read_csv(Pk_Benson_file, sep=\"   \", header=None, skiprows=0, index_col=False, engine='python')\n",
    "Pk_Benson_data.columns = ['k, h/Mpc', 'P(k), (Mpc/h)^3']\n",
    "Pk_Benson_data.head()"
   ]
  },
  {
   "cell_type": "code",
   "execution_count": 10,
   "metadata": {},
   "outputs": [
    {
     "data": {
      "image/png": "[encoded data removed]",
      "text/plain": [
       "<matplotlib.figure.Figure at 0x7faaf65ce1d0>"
      ]
     },
     "metadata": {},
     "output_type": "display_data"
    }
   ],
   "source": [
    "plt.plot(kV_data['k, h/Mpc'], kV_data['P(k), (Mpc/h)^3'], linewidth=1.5,color=\"r\")\n",
    "plt.plot(Pk_Benson_data['k, h/Mpc'], Pk_Benson_data['P(k), (Mpc/h)^3'], linewidth=1.5,color=\"b\")\n",
    "plt.loglog()\n",
    "plt.xlabel('k [h/Mpc]')\n",
    "plt.ylabel('P(k) [Mpc/h]$^3$')\n",
    "#plt.xlim([0.01,0.02])\n",
    "#plt.ylim([26000,28500])\n",
    "#plt.title('P(k)')\n",
    "#plt.savefig(\"P_k.png\")\n",
    "plt.show()"
   ]
  },
  {
   "cell_type": "code",
   "execution_count": 11,
   "metadata": {},
   "outputs": [
    {
     "name": "stdout",
     "output_type": "stream",
     "text": [
      "27617.659777934434 28265.382352941175\n"
     ]
    }
   ],
   "source": [
    "mean_Pk_Benson = Pk_Benson_data[(Pk_Benson_data['k, h/Mpc'] > 0.01) & (Pk_Benson_data['k, h/Mpc'] < 0.02)]['P(k), (Mpc/h)^3'].mean()\n",
    "print(mean_Pk_HMFcalc, mean_Pk_Benson)"
   ]
  },
  {
   "cell_type": "markdown",
   "metadata": {},
   "source": [
    "Agreement is much better!"
   ]
  },
  {
   "cell_type": "markdown",
   "metadata": {
    "collapsed": true
   },
   "source": [
    "Implementing Press-Schechter formalism"
   ]
  },
  {
   "cell_type": "code",
   "execution_count": 12,
   "metadata": {
    "collapsed": true
   },
   "outputs": [],
   "source": [
    "# top-hat window function\n",
    "barrho = Omega_m * rho_crit\n",
    "#print(barrho/10**9)\n",
    "def Wth(k, M):\n",
    "    R = (3*M/(4*np.pi*barrho))**(1./3.)\n",
    "    x = k*R\n",
    "    W = 3*(np.sin(x)-x*np.cos(x))/x**3\n",
    "    return W\n",
    "\n",
    "def sigma2th(M, Pk):\n",
    "    sigma2 = 0\n",
    "    #R = (3*M/(4*np.pi*barrho))**(1./3.)\n",
    "    k0 = Pk['k, h/Mpc'].min()\n",
    "    for i, item in Pk.iterrows():\n",
    "        k = item['k, h/Mpc']\n",
    "        P = item['P(k), (Mpc/h)^3']\n",
    "        W = Wth(k, M)\n",
    "        dk = k - k0\n",
    "        dsigma2 = (1/(2*np.pi**2))*(k**2)*dk*P*W**2\n",
    "        sigma2 += dsigma2\n",
    "        k0 = k\n",
    "        #print(k, P, W**2, dsigma2, sigma2)\n",
    "    return sigma2"
   ]
  },
  {
   "cell_type": "code",
   "execution_count": 13,
   "metadata": {},
   "outputs": [
    {
     "name": "stdout",
     "output_type": "stream",
     "text": [
      "0.785431865346 0.77098858879 1.2179609835\n"
     ]
    }
   ],
   "source": [
    "Mh = 10**14 # Msun/h\n",
    "print(sigma2th(Mh, Pk_Benson_data), sigma2th(Mh, kV_data), sigma2th(Mh, Pk_Lovell_data))"
   ]
  },
  {
   "cell_type": "code",
   "execution_count": 14,
   "metadata": {},
   "outputs": [
    {
     "name": "stdout",
     "output_type": "stream",
     "text": [
      "0.7904725650974324\n"
     ]
    }
   ],
   "source": [
    "sigma_actual = mV_data[(mV_data['M200, M/h'] > Mh*0.95) & (mV_data['M200, M/h'] < Mh*1.05)]['sigma'].mean()\n",
    "print(sigma_actual**2)"
   ]
  },
  {
   "cell_type": "code",
   "execution_count": 15,
   "metadata": {},
   "outputs": [
    {
     "data": {
      "image/png": "[encoded data removed]",
      "text/plain": [
       "<matplotlib.figure.Figure at 0x7faafa029be0>"
      ]
     },
     "metadata": {},
     "output_type": "display_data"
    }
   ],
   "source": [
    "Mhalo = np.logspace(10, 15, 10)\n",
    "plt.plot(Mhalo, (sigma2th(Mhalo, Pk_Benson_data)/sigma2th(Mhalo, kV_data)), \n",
    "         linewidth=2.0, \n",
    "         color=\"r\", \n",
    "         label='Benson/HMFcalc_prediction')\n",
    "plt.plot(mV_data['M200, M/h'], ((mV_data['sigma'])**2)/sigma2th(mV_data['M200, M/h'], kV_data),\n",
    "        linewidth=2.0,\n",
    "        color='b',\n",
    "        label='HMFcalc_actual/HMFcalc_prediction')\n",
    "plt.axhline(y=1.00, linewidth=0.5, hold=None)\n",
    "plt.xlabel('M200 [Msun/h]')\n",
    "plt.legend(loc='lower right')\n",
    "#plt.ylabel('Ratio')\n",
    "plt.title('$\\sigma^2(M)$ ratio')\n",
    "plt.semilogx()\n",
    "plt.show()"
   ]
  },
  {
   "cell_type": "code",
   "execution_count": 16,
   "metadata": {
    "collapsed": true
   },
   "outputs": [],
   "source": [
    "def f_PS(M, Pk = kV_data, delta_c = 1.686):\n",
    "    sigma2 = sigma2th(M, Pk)\n",
    "    #print(sigma2)\n",
    "    f = np.sqrt(2/(np.pi*sigma2))*delta_c*np.exp(-delta_c**2/(2*sigma2))\n",
    "    return f"
   ]
  },
  {
   "cell_type": "code",
   "execution_count": 17,
   "metadata": {},
   "outputs": [
    {
     "data": {
      "image/png": "[encoded data removed]",
      "text/plain": [
       "<matplotlib.figure.Figure at 0x7faaf9f8acf8>"
      ]
     },
     "metadata": {},
     "output_type": "display_data"
    }
   ],
   "source": [
    "Mhalo = np.logspace(10, 15, 10)\n",
    "plt.plot(Mhalo, f_PS(Mhalo), \n",
    "         linewidth=2.0, \n",
    "         color=\"r\", \n",
    "         label='HMFcalc, prediction')\n",
    "plt.plot(mV_data['M200, M/h'], mV_data['f(sigma)'],\n",
    "        linewidth=2.0,\n",
    "        color='b',\n",
    "        label='HMFcalc,actual')\n",
    "#plt.axhline(y=1.00, linewidth=0.5, hold=None)\n",
    "plt.xlabel('M200 [Msun/h]')\n",
    "plt.legend(loc='center left')\n",
    "#plt.ylabel('Ratio')\n",
    "plt.title('$f(\\sigma)$')\n",
    "plt.semilogx()\n",
    "plt.show()"
   ]
  },
  {
   "cell_type": "code",
   "execution_count": 18,
   "metadata": {
    "collapsed": true
   },
   "outputs": [],
   "source": [
    "def dlogsigma_dlogM(M, Pk = kV_data):\n",
    "    ans = 0\n",
    "    k0 = Pk['k, h/Mpc'].min()\n",
    "    R = (3*M/(4*np.pi*barrho))**(1./3.)\n",
    "    for i, item in Pk.iterrows():\n",
    "        k = item['k, h/Mpc']\n",
    "        P = item['P(k), (Mpc/h)^3']\n",
    "        \n",
    "        x = k*R\n",
    "        f1 = np.sin(x)-x*np.cos(x)\n",
    "        f2 = np.sin(x)*(1-3/x**2)+3*np.cos(x)/x\n",
    "        dW2_dM = f1*f2\n",
    "        dk = k - k0\n",
    "        dans = dW2_dM*(P/k**2)*dk\n",
    "        ans += dans\n",
    "        k0 = k\n",
    "        #print(k, P, dans, ans)\n",
    "    ans = ans*(3/(2*sigma2th(M, Pk)*np.pi**2*R**4))\n",
    "    return np.abs(ans)"
   ]
  },
  {
   "cell_type": "code",
   "execution_count": 19,
   "metadata": {},
   "outputs": [
    {
     "data": {
      "text/plain": [
       "0.1215275527062578"
      ]
     },
     "execution_count": 19,
     "metadata": {},
     "output_type": "execute_result"
    }
   ],
   "source": [
    "dlogsigma_dlogM(10**11)"
   ]
  },
  {
   "cell_type": "code",
   "execution_count": 20,
   "metadata": {
    "collapsed": true
   },
   "outputs": [],
   "source": [
    "def dn_dlogM(M, Pk = kV_data, delta_c = 1.686):\n",
    "    ans = (rho_0/M)*f_PS(M, kV_data, delta_c)*dlogsigma_dlogM(M, Pk = kV_data)\n",
    "    return ans"
   ]
  },
  {
   "cell_type": "code",
   "execution_count": 21,
   "metadata": {},
   "outputs": [
    {
     "data": {
      "text/plain": [
       "2.1342066964072871e-07"
      ]
     },
     "execution_count": 21,
     "metadata": {},
     "output_type": "execute_result"
    }
   ],
   "source": [
    "dn_dlogM(10**15)"
   ]
  },
  {
   "cell_type": "code",
   "execution_count": 22,
   "metadata": {},
   "outputs": [
    {
     "data": {
      "image/png": "[encoded data removed]",
      "text/plain": [
       "<matplotlib.figure.Figure at 0x7faaf6518550>"
      ]
     },
     "metadata": {},
     "output_type": "display_data"
    }
   ],
   "source": [
    "Mhalo = np.logspace(10, 15, 10)\n",
    "plt.plot(Mhalo, dn_dlogM(Mhalo), \n",
    "         linewidth=2.0, \n",
    "         color=\"r\", \n",
    "         label='HMFcalc, prediction')\n",
    "plt.plot(mV_data['M200, M/h'], mV_data['dn/dlnm, h^3/Mpc^3'],\n",
    "        linewidth=2.0,\n",
    "        color='b',\n",
    "        label='HMFcalc,actual')\n",
    "#plt.axhline(y=1.00, linewidth=0.5, hold=None)\n",
    "plt.xlabel('M200 [Msun/h]')\n",
    "plt.legend(loc='upper right')\n",
    "#plt.ylabel('Ratio')\n",
    "#plt.title('$\\frac{dn}{d\\log M}$')\n",
    "plt.semilogx()\n",
    "plt.semilogy()\n",
    "plt.show()"
   ]
  },
  {
   "cell_type": "markdown",
   "metadata": {},
   "source": [
    "So, as we see, predicted halo mass function (red) almost coincides with calculation made by HMFcalc website "
   ]
  },
  {
   "cell_type": "markdown",
   "metadata": {},
   "source": [
    "2do: understand how good local Python version of the HMFcalc works (import hmf etc.)"
   ]
  }
 ],
 "metadata": {
  "kernelspec": {
   "display_name": "Python [default]",
   "language": "python",
   "name": "python3"
  },
  "language_info": {
   "codemirror_mode": {
    "name": "ipython",
    "version": 3
   },
   "file_extension": ".py",
   "mimetype": "text/x-python",
   "name": "python",
   "nbconvert_exporter": "python",
   "pygments_lexer": "ipython3",
   "version": "3.5.2"
  }
 },
 "nbformat": 4,
 "nbformat_minor": 2
}
